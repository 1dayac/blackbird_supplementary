{
 "cells": [
  {
   "cell_type": "code",
   "execution_count": null,
   "metadata": {
    "collapsed": true,
    "pycharm": {
     "name": "#%%\n"
    }
   },
   "outputs": [],
   "source": [
    "import pandas as pd\n",
    "import matplotlib.pyplot as plt\n",
    "import numpy as np\n",
    "\n",
    "\n",
    "df_hg002 = pd.DataFrame(columns = [\"Method\", \"SV type\", \"RepeatType\", \"Called\",  \"NotCalled\"])\n",
    "df_hg002 = df_hg002.append({\"Method\" : \"Blackbird\", \"SV type\" : \"Deletions\", \"RepeatType\" : 0.860, \"Called\" : 0.793, \"NotCalled\" : 0.826}, ignore_index = True)\n",
    "df_hg002 = df_hg002.append({\"Method\" : \"Blackbird\", \"SV type\" : \"Insertions\", \"RepeatType\" : 0.860, \"Called\" : 0.793, \"NotCalled\" : 0.826}, ignore_index = True)\n"
   ]
  }
 ],
 "metadata": {
  "kernelspec": {
   "display_name": "Python 3",
   "language": "python",
   "name": "python3"
  },
  "language_info": {
   "codemirror_mode": {
    "name": "ipython",
    "version": 2
   },
   "file_extension": ".py",
   "mimetype": "text/x-python",
   "name": "python",
   "nbconvert_exporter": "python",
   "pygments_lexer": "ipython2",
   "version": "2.7.6"
  }
 },
 "nbformat": 4,
 "nbformat_minor": 0
}