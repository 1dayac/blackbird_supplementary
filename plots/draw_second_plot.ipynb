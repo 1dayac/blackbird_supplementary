{
 "cells": [
  {
   "cell_type": "code",
   "execution_count": 6,
   "outputs": [
    {
     "name": "stdout",
     "output_type": "stream",
     "text": [
      "   Method     SV type      RepeatType Called NotCalled\n",
      "0    PBSV  Insertions       NotMasked   1148       740\n",
      "1    PBSV  Insertions   Simple_repeat    911       567\n",
      "2    PBSV  Insertions         LINE/L1    211       150\n",
      "3    PBSV  Insertions        SINE/Alu   1040       634\n",
      "4    PBSV  Insertions  Low_complexity    102        58\n",
      "5    PBSV  Insertions         Complex    510       344\n",
      "6    PBSV  Insertions        LTR/ERV1     81        35\n",
      "7    PBSV  Insertions  Retroposon/SVA    133        48\n",
      "8    PBSV  Insertions   LTR/ERVL-MaLR     35        19\n",
      "9    PBSV   Deletions       NotMasked    792       541\n",
      "10   PBSV   Deletions        SINE/Alu    970       197\n",
      "11   PBSV   Deletions         Complex    405       159\n",
      "12   PBSV   Deletions   Simple_repeat    428       253\n",
      "13   PBSV   Deletions         LINE/L1    203        77\n",
      "14   PBSV   Deletions   LTR/ERVL-MaLR     38        17\n",
      "15   PBSV   Deletions  Retroposon/SVA     66        37\n",
      "16   PBSV   Deletions        LTR/ERV1     78        35\n",
      "17   PBSV   Deletions  Low_complexity     25        16\n"
     ]
    }
   ],
   "source": [
    "import pandas as pd\n",
    "import matplotlib.pyplot as plt\n",
    "import numpy as np\n",
    "\n",
    "\n",
    "df_hg002 = pd.DataFrame(columns = [\"Method\", \"SV type\", \"RepeatType\", \"Called\",  \"NotCalled\"])\n",
    "df = pd.read_csv(\"pbsv_insertions.csv\")\n",
    "df2 = pd.read_csv(\"pbsv_deletions.csv\")\n",
    "df_hg002 = pd.concat([df_hg002, df, df2], ignore_index=True)\n",
    "\n",
    "print(df_hg002)"
   ],
   "metadata": {
    "collapsed": false,
    "pycharm": {
     "name": "#%%\n"
    }
   }
  },
  {
   "cell_type": "code",
   "execution_count": null,
   "outputs": [],
   "source": [],
   "metadata": {
    "collapsed": false,
    "pycharm": {
     "name": "#%%\n"
    }
   }
  }
 ],
 "metadata": {
  "kernelspec": {
   "display_name": "Python 3",
   "language": "python",
   "name": "python3"
  },
  "language_info": {
   "codemirror_mode": {
    "name": "ipython",
    "version": 2
   },
   "file_extension": ".py",
   "mimetype": "text/x-python",
   "name": "python",
   "nbconvert_exporter": "python",
   "pygments_lexer": "ipython2",
   "version": "2.7.6"
  }
 },
 "nbformat": 4,
 "nbformat_minor": 0
}